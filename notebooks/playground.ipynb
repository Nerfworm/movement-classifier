{
 "cells": [
  {
   "cell_type": "code",
   "execution_count": 50,
   "id": "15d7d497",
   "metadata": {},
   "outputs": [],
   "source": [
    "import openvr\n"
   ]
  },
  {
   "cell_type": "markdown",
   "id": "490d0442",
   "metadata": {},
   "source": [
    "### Rough draft code:\n",
    "Intended for use in a dynamic device assignment tool for `config.py/CONNECTED_DEVICES`"
   ]
  },
  {
   "cell_type": "code",
   "execution_count": 51,
   "id": "fa6b6d31",
   "metadata": {},
   "outputs": [
    {
     "name": "stdout",
     "output_type": "stream",
     "text": [
      "Detected HMD: Meta Quest 3\n",
      "Serial Number: 1PASH5D1P17365\n"
     ]
    }
   ],
   "source": [
    "def get_device_serial_number(vr_system, device_index):\n",
    "    return vr_system.getStringTrackedDeviceProperty(device_index, openvr.Prop_SerialNumber_String)\n",
    "\n",
    "def identify_hmd(vr_system, device_index):\n",
    "    hmd_serial_number = get_device_serial_number(vr_system, device_index)\n",
    "    # logging\n",
    "    print(f\"Detected HMD: {vr_system.getStringTrackedDeviceProperty(device_index, openvr.Prop_ModelNumber_String)}\")\n",
    "    print(f\"Serial Number: {hmd_serial_number}\")\n",
    "\n",
    "def identify_device(vr_system, device_index):\n",
    "    device_class = vr_system.getTrackedDeviceClass(device_index)\n",
    "    if device_class == openvr.TrackedDeviceClass_HMD:\n",
    "        identify_hmd(vr_system, device_index)\n",
    "        \n",
    "    # if device_class == openvr.TrackedDeviceClass_Controller:\n",
    "\n",
    "vr_isystem = openvr.init(openvr.VRApplication_Other)\n",
    "\n",
    "# Loops to 64, read doc on openvr.k_unMaxTrackedDeviceCount\n",
    "for device_index in range(openvr.k_unMaxTrackedDeviceCount):\n",
    "    if vr_isystem.isTrackedDeviceConnected(device_index):\n",
    "        identify_device(vr_isystem, device_index)\n",
    "            "
   ]
  },
  {
   "cell_type": "code",
   "execution_count": 52,
   "id": "0f42dd41",
   "metadata": {},
   "outputs": [
    {
     "data": {
      "text/plain": [
       "['1PASH5D1P17365',\n",
       " 'human://LEFT_FOOT',\n",
       " 'human://LEFT_KNEE',\n",
       " 'human://RIGHT_FOOT',\n",
       " 'human://RIGHT_KNEE',\n",
       " 'human://WAIST',\n",
       " 'human://CHEST',\n",
       " 'human://RIGHT_ELBOW',\n",
       " 'human://LEFT_ELBOW',\n",
       " '1PASH5D1P17365_Controller_Left',\n",
       " '1PASH5D1P17365_Controller_Right']"
      ]
     },
     "execution_count": 52,
     "metadata": {},
     "output_type": "execute_result"
    }
   ],
   "source": [
    "def get_all_devices(vr_system):\n",
    "    devices = []\n",
    "    for i in range(openvr.k_unMaxTrackedDeviceCount):\n",
    "        if vr_system.isTrackedDeviceConnected(i):\n",
    "            device_serial_number = vr_system.getStringTrackedDeviceProperty(i, openvr.Prop_SerialNumber_String)\n",
    "            devices.append(device_serial_number)\n",
    "    return devices\n",
    "connected_devices = get_all_devices(vr_isystem)\n",
    "connected_devices"
   ]
  },
  {
   "cell_type": "code",
   "execution_count": 53,
   "id": "005b3864",
   "metadata": {},
   "outputs": [
    {
     "name": "stdout",
     "output_type": "stream",
     "text": [
      "<openvr.TrackedDevicePose_t_Array_64 object at 0x00000277E4F33CD0>\n"
     ]
    }
   ],
   "source": [
    "poses = openvr.VRSystem().getDeviceToAbsoluteTrackingPose(\n",
    "    openvr.TrackingUniverseStanding, 0, openvr.k_unMaxTrackedDeviceCount\n",
    ")\n",
    "print(poses)\n",
    "\n"
   ]
  },
  {
   "cell_type": "code",
   "execution_count": 54,
   "id": "2ee7496b",
   "metadata": {},
   "outputs": [
    {
     "data": {
      "text/plain": [
       "<openvr.TrackedDevicePose_t at 0x277e7036350>"
      ]
     },
     "execution_count": 54,
     "metadata": {},
     "output_type": "execute_result"
    }
   ],
   "source": [
    "chest_index = 6\n",
    "pose = poses[6]\n",
    "pose"
   ]
  },
  {
   "cell_type": "code",
   "execution_count": 55,
   "id": "f4cc092a",
   "metadata": {},
   "outputs": [
    {
     "data": {
      "text/plain": [
       "<openvr.HmdMatrix34_t at 0x277e7036dd0>"
      ]
     },
     "execution_count": 55,
     "metadata": {},
     "output_type": "execute_result"
    }
   ],
   "source": [
    "matrix = pose.mDeviceToAbsoluteTracking\n",
    "matrix"
   ]
  },
  {
   "cell_type": "code",
   "execution_count": 56,
   "id": "4e563ace",
   "metadata": {},
   "outputs": [
    {
     "name": "stdout",
     "output_type": "stream",
     "text": [
      "Tracker ID: 6\n",
      "Position: x=0.1637, y=1.1815, z=-0.5179\n"
     ]
    }
   ],
   "source": [
    "x = matrix[0][3]\n",
    "y = matrix[1][3]\n",
    "z = matrix[2][3]\n",
    "\n",
    "print(f\"Tracker ID: {chest_index}\")\n",
    "print(f\"Position: x={x:.4f}, y={y:.4f}, z={z:.4f}\")"
   ]
  },
  {
   "cell_type": "code",
   "execution_count": 57,
   "id": "637605e6",
   "metadata": {},
   "outputs": [],
   "source": [
    "import numpy as np\n",
    "from scipy.spatial.transform import Rotation as R"
   ]
  },
  {
   "cell_type": "code",
   "execution_count": 58,
   "id": "f8aecaae",
   "metadata": {},
   "outputs": [
    {
     "data": {
      "text/plain": [
       "[[0.9968463182449341, 0.027629569172859192, 0.07439326494932175],\n",
       " [-0.021195482462644577, 0.9960756897926331, -0.08593239635229111],\n",
       " [-0.07647550851106644, 0.08408467471599579, 0.9935199022293091]]"
      ]
     },
     "execution_count": 58,
     "metadata": {},
     "output_type": "execute_result"
    }
   ],
   "source": [
    "rot_matrix = [\n",
    "    [matrix[0][0], matrix[0][1], matrix[0][2]],\n",
    "    [matrix[1][0], matrix[1][1], matrix[1][2]],\n",
    "    [matrix[2][0], matrix[2][1], matrix[2][2]],\n",
    "]\n",
    "rot_matrix"
   ]
  },
  {
   "cell_type": "code",
   "execution_count": 59,
   "id": "3fcf9dba",
   "metadata": {},
   "outputs": [
    {
     "data": {
      "text/plain": [
       "<scipy.spatial.transform._rotation.Rotation at 0x277e70543f0>"
      ]
     },
     "execution_count": 59,
     "metadata": {},
     "output_type": "execute_result"
    }
   ],
   "source": [
    "r = R.from_matrix(rot_matrix)\n",
    "r"
   ]
  },
  {
   "cell_type": "code",
   "execution_count": 60,
   "id": "a59e5c80",
   "metadata": {},
   "outputs": [
    {
     "name": "stdout",
     "output_type": "stream",
     "text": [
      "Rotation (quaternion): x=0.0426, y=0.0378, z=-0.0122, w=0.9983\n"
     ]
    }
   ],
   "source": [
    "qx, qy, qz, qw = r.as_quat()\n",
    "print(f\"Rotation (quaternion): x={qx:.4f}, y={qy:.4f}, z={qz:.4f}, w={qw:.4f}\")"
   ]
  }
 ],
 "metadata": {
  "kernelspec": {
   "display_name": "venv",
   "language": "python",
   "name": "python3"
  },
  "language_info": {
   "codemirror_mode": {
    "name": "ipython",
    "version": 3
   },
   "file_extension": ".py",
   "mimetype": "text/x-python",
   "name": "python",
   "nbconvert_exporter": "python",
   "pygments_lexer": "ipython3",
   "version": "3.13.1"
  }
 },
 "nbformat": 4,
 "nbformat_minor": 5
}
